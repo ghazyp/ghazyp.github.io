{
 "cells": [
  {
   "cell_type": "markdown",
   "metadata": {},
   "source": [
    "# This is Jeopardy!"
   ]
  },
  {
   "cell_type": "markdown",
   "metadata": {},
   "source": [
    "#### Overview"
   ]
  },
  {
   "cell_type": "markdown",
   "metadata": {},
   "source": [
    "This project is slightly different than others you have encountered thus far. Instead of a step-by-step tutorial, this project contains a series of open-ended requirements which describe the project you'll be building. There are many possible ways to correctly fulfill all of these requirements, and you should expect to use the internet, Codecademy, and/or other resources when you encounter a problem that you cannot easily solve."
   ]
  },
  {
   "cell_type": "markdown",
   "metadata": {},
   "source": [
    "#### Project Goals"
   ]
  },
  {
   "cell_type": "markdown",
   "metadata": {},
   "source": [
    "You will work to write several functions that investigate a dataset of _Jeopardy!_ questions and answers. Filter the dataset for topics that you're interested in, compute the average difficulty of those questions, and train to become the next Jeopardy champion!"
   ]
  },
  {
   "cell_type": "markdown",
   "metadata": {},
   "source": [
    "## Prerequisites"
   ]
  },
  {
   "cell_type": "markdown",
   "metadata": {},
   "source": [
    "In order to complete this project, you should have completed the Pandas lessons in the <a href=\"https://www.codecademy.com/learn/paths/analyze-data-with-python\">Analyze Data with Python Skill Path</a>. You can also find those lessons in the <a href=\"https://www.codecademy.com/learn/data-processing-pandas\">Data Analysis with Pandas course</a> or the <a href=\"https://www.codecademy.com/learn/paths/data-science/\">Data Scientist Career Path</a>.\n",
    "\n",
    "Finally, the <a href=\"https://www.codecademy.com/learn/practical-data-cleaning\">Practical Data Cleaning</a> course may also be helpful."
   ]
  },
  {
   "cell_type": "markdown",
   "metadata": {},
   "source": [
    "## Project Requirements"
   ]
  },
  {
   "cell_type": "markdown",
   "metadata": {},
   "source": [
    "1. We've provided a csv file containing data about the game show _Jeopardy!_ in a file named `jeopardy.csv`. Load the data into a DataFrame and investigate its contents. Try to print out specific columns.\n",
    "\n",
    "   Note that in order to make this project as \"real-world\" as possible, we haven't modified the data at all - we're giving it to you exactly how we found it. As a result, this data isn't as \"clean\" as the datasets you normally find on Codecademy. More specifically, there's something odd about the column names. After you figure out the problem with the column names, you may want to rename them to make your life easier for the rest of the project.\n",
    "   \n",
    "   In order to display the full contents of a column, we've added this line of code for you:\n",
    "   \n",
    "   ```py\n",
    "   pd.set_option('display.max_colwidth', None)\n",
    "   ```"
   ]
  },
  {
   "cell_type": "code",
   "execution_count": 19,
   "metadata": {},
   "outputs": [],
   "source": [
    "import pandas as pd\n",
    "\n",
    "# Load the data\n",
    "jeopardy_df = pd.read_csv('jeopardy.csv')\n",
    "\n",
    "# Clean column names\n",
    "jeopardy_df.columns = jeopardy_df.columns.str.strip()\n",
    "\n",
    "pd.set_option('display.max_colwidth', None)"
   ]
  },
  {
   "cell_type": "markdown",
   "metadata": {},
   "source": [
    "2. Write a function that filters the dataset for questions that contains all of the words in a list of words. For example, when the list `[\"King\", \"England\"]` was passed to our function, the function returned a DataFrame of 49 rows. Every row had the strings `\"King\"` and `\"England\"` somewhere in its `\" Question\"`.\n",
    "\n",
    "   Test your function by printing out the column containing the question of each row of the dataset."
   ]
  },
  {
   "cell_type": "code",
   "execution_count": 21,
   "metadata": {},
   "outputs": [
    {
     "name": "stdout",
     "output_type": "stream",
     "text": [
      "4953                    Both England's King George V & FDR put their stamp of approval on this \"King of Hobbies\"\n",
      "6337      In retaliation for Viking raids, this \"Unready\" king of England attacks Norse areas of the Isle of Man\n",
      "9191                    This king of England beat the odds to trounce the French in the 1415 Battle of Agincourt\n",
      "11710               This Scotsman, the first Stuart king of England, was called \"The Wisest Fool in Christendom\"\n",
      "13454                                       It's the number that followed the last king of England named William\n",
      "                                                           ...                                                  \n",
      "208295        In 1066 this great-great grandson of Rollo made what some call the last Viking invasion of England\n",
      "208742                      Dutch-born king who ruled England jointly with Mary II & is a tasty New Zealand fish\n",
      "213870                In 1781 William Herschel discovered Uranus & initially named it after this king of England\n",
      "216021          His nickname was \"Bertie\", but he used this name & number when he became king of England in 1901\n",
      "216789        This kingdom of England grew from 2 settlements, one founded around 495 by Cerdic & his son Cynric\n",
      "Name: Question, Length: 152, dtype: object\n"
     ]
    }
   ],
   "source": [
    "def filter_questions_by_words(dataframe, words):\n",
    "    \"\"\"\n",
    "    Filter the DataFrame for questions containing all the specified words.\n",
    "    \n",
    "    Args:\n",
    "    dataframe (pd.DataFrame): The Jeopardy DataFrame.\n",
    "    words (list of str): Words to look for in each question.\n",
    "    \n",
    "    Returns:\n",
    "    pd.DataFrame: Filtered DataFrame with questions containing all the specified words.\n",
    "    \"\"\"\n",
    "    filter_condition = dataframe['Question'].apply(lambda x: all(word.lower() in x.lower() for word in words))\n",
    "    return dataframe[filter_condition]\n",
    "\n",
    "# Test the function with words [\"King\", \"England\"]\n",
    "filtered_questions = filter_questions_by_words(jeopardy_df, [\"King\", \"England\"])\n",
    "print(filtered_questions['Question'])"
   ]
  },
  {
   "cell_type": "markdown",
   "metadata": {},
   "source": [
    "3. Test your original function with a few different sets of words to try to find some ways your function breaks. Edit your function so it is more robust.\n",
    "\n",
    "   For example, think about capitalization. We probably want to find questions that contain the word `\"King\"` or `\"king\"`.\n",
    "   \n",
    "   You may also want to check to make sure you don't find rows that contain substrings of your given words. For example, our function found a question that didn't contain the word `\"king\"`, however it did contain the word `\"viking\"` &mdash; it found the `\"king\"` inside `\"viking\"`. Note that this also comes with some drawbacks &mdash; you would no longer find questions that contained words like `\"England's\"`."
   ]
  },
  {
   "cell_type": "code",
   "execution_count": 27,
   "metadata": {},
   "outputs": [
    {
     "name": "stdout",
     "output_type": "stream",
     "text": [
      "4953                    Both England's King George V & FDR put their stamp of approval on this \"King of Hobbies\"\n",
      "6337      In retaliation for Viking raids, this \"Unready\" king of England attacks Norse areas of the Isle of Man\n",
      "9191                    This king of England beat the odds to trounce the French in the 1415 Battle of Agincourt\n",
      "11710               This Scotsman, the first Stuart king of England, was called \"The Wisest Fool in Christendom\"\n",
      "13454                                       It's the number that followed the last king of England named William\n",
      "                                                           ...                                                  \n",
      "201168                                  Popular Saint-Exupery character waiting around to become king of England\n",
      "204778                                 This southern colony was named for a king of England, the II of that name\n",
      "208742                      Dutch-born king who ruled England jointly with Mary II & is a tasty New Zealand fish\n",
      "213870                In 1781 William Herschel discovered Uranus & initially named it after this king of England\n",
      "216021          His nickname was \"Bertie\", but he used this name & number when he became king of England in 1901\n",
      "Name: Question, Length: 118, dtype: object\n"
     ]
    }
   ],
   "source": [
    "import re\n",
    "\n",
    "def filter_questions_by_words_more_robust(dataframe, words):\n",
    "    \"\"\"\n",
    "    Further enhanced filter for the DataFrame to ensure case insensitivity, prevent substring matches,\n",
    "    and handle possessive cases.\n",
    "    \n",
    "    Args:\n",
    "    dataframe (pd.DataFrame): The Jeopardy DataFrame.\n",
    "    words (list of str): Words to look for in each question.\n",
    "    \n",
    "    Returns:\n",
    "    pd.DataFrame: Filtered DataFrame with questions containing all the specified words, including possessive cases.\n",
    "    \"\"\"\n",
    "    # Use regex to find whole words, accounting for case insensitivity and possessive cases\n",
    "    word_regex = lambda w: r'\\b' + re.escape(w) + r'(\\'s)?\\b'\n",
    "    filter_condition = dataframe['Question'].apply(\n",
    "        lambda x: all(re.search(word_regex(word), x, flags=re.IGNORECASE) for word in words)\n",
    "    )\n",
    "    return dataframe[filter_condition]\n",
    "\n",
    "# Example usage\n",
    "test_words = [\"King\", \"England\"]\n",
    "filtered_questions = filter_questions_by_words_more_robust(jeopardy_df, test_words)\n",
    "print(filtered_questions['Question'])"
   ]
  },
  {
   "cell_type": "markdown",
   "metadata": {},
   "source": [
    "4. We may want to eventually compute aggregate statistics, like `.mean()` on the `\" Value\"` column. But right now, the values in that column are strings. Convert the`\" Value\"` column to floats. If you'd like to, you can create a new column with float values.\n",
    "\n",
    "   While most of the values in the `\" Value\"` column represent a dollar amount as a string, note that some do not &mdash; these values will need to be handled differently!\n",
    "\n",
    "   Now that you can filter the dataset of question, use your new column that contains the float values of each question to find the \"difficulty\" of certain topics. For example, what is the average value of questions that contain the word `\"King\"`?\n",
    "   \n",
    "   Make sure to use the dataset that contains the float values as the dataset you use in your filtering function."
   ]
  },
  {
   "cell_type": "code",
   "execution_count": 29,
   "metadata": {},
   "outputs": [
    {
     "data": {
      "text/plain": [
       "803.2981049562683"
      ]
     },
     "execution_count": 29,
     "metadata": {},
     "output_type": "execute_result"
    }
   ],
   "source": [
    "def convert_value_to_float(value):\n",
    "    try:\n",
    "        # Remove the dollar sign and commas, then convert to float\n",
    "        return float(value.replace('$', '').replace(',', ''))\n",
    "    except ValueError:\n",
    "        # Return 0 for any values that can't be converted to floats\n",
    "        return 0\n",
    "\n",
    "# Apply the conversion function to the \"Value\" column and create a new column for the float values\n",
    "jeopardy_df['FloatValue'] = jeopardy_df['Value'].apply(convert_value_to_float)\n",
    "\n",
    "# Function to calculate the average difficulty for questions containing a specific word\n",
    "def filter_questions_by_word_and_calculate_difficulty(dataframe, word):\n",
    "    \"\"\"\n",
    "    Filter questions containing the word and calculate the average difficulty (value) of those questions.\n",
    "    \n",
    "    Args:\n",
    "    dataframe (pd.DataFrame): The Jeopardy DataFrame.\n",
    "    word (str): Word to look for in each question.\n",
    "    \n",
    "    Returns:\n",
    "    float: Average value of filtered questions.\n",
    "    \"\"\"\n",
    "    filtered_df = dataframe[dataframe['Question'].str.contains(r'\\b' + re.escape(word) + r'\\b', case=False, regex=True)]\n",
    "    return filtered_df['FloatValue'].mean()\n",
    "\n",
    "# Calculate the average difficulty for questions containing the word \"King\"\n",
    "average_difficulty_king = filter_questions_by_word_and_calculate_difficulty(jeopardy_df, \"King\")\n",
    "average_difficulty_king"
   ]
  },
  {
   "cell_type": "markdown",
   "metadata": {},
   "source": [
    "5. Write a function that returns the count of unique answers to all of the questions in a dataset. For example, after filtering the entire dataset to only questions containing the word `\"King\"`, we could then find all of the unique answers to those questions. The answer \"Henry VIII\" appeared 55 times and was the most common answer."
   ]
  },
  {
   "cell_type": "code",
   "execution_count": 31,
   "metadata": {},
   "outputs": [
    {
     "name": "stdout",
     "output_type": "stream",
     "text": [
      "Answer\n",
      "Henry VIII                           54\n",
      "Solomon                              31\n",
      "Louis XIV                            31\n",
      "David                                29\n",
      "Sweden                               24\n",
      "                                     ..\n",
      "Oscar                                 1\n",
      "Henderson                             1\n",
      "(Catherine) Howard                    1\n",
      "\"The Circle Of Life\"                  1\n",
      "a pyramid (the pyramids accepted)     1\n",
      "Name: count, Length: 1499, dtype: int64\n"
     ]
    }
   ],
   "source": [
    "def unique_answers_count(dataframe, word):\n",
    "    \"\"\"\n",
    "    Count unique answers for questions containing the specified word.\n",
    "\n",
    "    Args:\n",
    "    dataframe (pd.DataFrame): The Jeopardy DataFrame.\n",
    "    word (str): Word to look for in each question.\n",
    "\n",
    "    Returns:\n",
    "    pd.Series: Counts of unique answers sorted in descending order.\n",
    "    \"\"\"\n",
    "    # Filter dataframe for questions containing the specified word\n",
    "    filtered_df = dataframe[dataframe['Question'].str.contains(r'\\b' + re.escape(word) + r'\\b', case=False, regex=True)]\n",
    "    # Count unique answers and sort them\n",
    "    answer_counts = filtered_df['Answer'].value_counts()\n",
    "    return answer_counts\n",
    "\n",
    "# Example usage: Calculate the unique answer counts for questions containing the word \"King\"\n",
    "unique_answers_king = unique_answers_count(jeopardy_df, \"King\")\n",
    "print(unique_answers_king)"
   ]
  },
  {
   "cell_type": "markdown",
   "metadata": {},
   "source": [
    "6. Explore from here! This is an incredibly rich dataset, and there are so many interesting things to discover. There are a few columns that we haven't even started looking at yet. Here are some ideas on ways to continue working with this data:\n",
    "\n",
    " * Investigate the ways in which questions change over time by filtering by the date. How many questions from the 90s use the word `\"Computer\"` compared to questions from the 2000s?\n",
    " * Is there a connection between the round and the category? Are you more likely to find certain categories, like `\"Literature\"` in Single Jeopardy or Double Jeopardy?\n",
    " * Build a system to quiz yourself. Grab random questions, and use the <a href=\"https://docs.python.org/3/library/functions.html#input\">input</a> function to get a response from the user. Check to see if that response was right or wrong."
   ]
  },
  {
   "cell_type": "code",
   "execution_count": 33,
   "metadata": {},
   "outputs": [
    {
     "name": "stdout",
     "output_type": "stream",
     "text": [
      "Decade\n",
      "1980      6\n",
      "1990     98\n",
      "2000    268\n",
      "2010     59\n",
      "dtype: int64\n"
     ]
    }
   ],
   "source": [
    "def keyword_trend_by_decade(dataframe, keyword):\n",
    "    \"\"\"\n",
    "    Analyze the frequency of a keyword in questions across different decades.\n",
    "    \n",
    "    Args:\n",
    "    dataframe (pd.DataFrame): The Jeopardy DataFrame.\n",
    "    keyword (str): The keyword to search for in questions.\n",
    "    \n",
    "    Returns:\n",
    "    pd.DataFrame: Counts of keyword appearance by decade.\n",
    "    \"\"\"\n",
    "    # Extract year from 'Air Date' and create a new column for the decade\n",
    "    dataframe['Decade'] = dataframe['Air Date'].str[:4].astype(int) // 10 * 10\n",
    "    # Filter questions containing the keyword\n",
    "    keyword_filter = dataframe['Question'].str.contains(keyword, case=False, regex=False)\n",
    "    # Count occurrences by decade\n",
    "    return dataframe[keyword_filter].groupby('Decade').size()\n",
    "\n",
    "# Example usage\n",
    "computer_trends = keyword_trend_by_decade(jeopardy_df, \"Computer\")\n",
    "print(computer_trends)"
   ]
  },
  {
   "cell_type": "markdown",
   "metadata": {},
   "source": [
    "## Solution"
   ]
  },
  {
   "cell_type": "markdown",
   "metadata": {},
   "source": [
    "7. Compare your program to our <a href=\"https://content.codecademy.com/PRO/independent-practice-projects/jeopardy/jeopardy_solution.zip\">sample solution code</a> - remember, that your program might look different from ours (and probably will) and that's okay!"
   ]
  },
  {
   "cell_type": "markdown",
   "metadata": {},
   "source": [
    "8. Great work! Visit <a href=\"https://discuss.codecademy.com/t/this-is-jeopardy-challenge-project-python-pandas/462365\">our forums</a> to compare your project to our sample solution code. You can also learn how to host your own solution on GitHub so you can share it with other learners! Your solution might look different from ours, and that's okay! There are multiple ways to solve these projects, and you'll learn more by seeing others' code."
   ]
  },
  {
   "cell_type": "code",
   "execution_count": null,
   "metadata": {},
   "outputs": [],
   "source": []
  }
 ],
 "metadata": {
  "kernelspec": {
   "display_name": "Python 3 (ipykernel)",
   "language": "python",
   "name": "python3"
  },
  "language_info": {
   "codemirror_mode": {
    "name": "ipython",
    "version": 3
   },
   "file_extension": ".py",
   "mimetype": "text/x-python",
   "name": "python",
   "nbconvert_exporter": "python",
   "pygments_lexer": "ipython3",
   "version": "3.12.7"
  }
 },
 "nbformat": 4,
 "nbformat_minor": 4
}
